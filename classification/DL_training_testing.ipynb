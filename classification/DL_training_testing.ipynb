{
 "cells": [
  {
   "cell_type": "code",
   "execution_count": 1,
   "metadata": {
    "scrolled": true
   },
   "outputs": [],
   "source": [
    "import pandas as pd\n",
    "import xlrd\n",
    "allData = pd.read_excel('all_data_0108.xlsx', header = 0, engine = 'openpyxl')\n",
    "peopleData = allData.iloc[:5000]\n",
    "peopleHeadline = peopleData['headline'].values.tolist()\n",
    "\n",
    "for i in range(len(peopleHeadline)):\n",
    "    peopleHeadline[i] = peopleHeadline[i].lower()\n",
    "\n",
    "peopleLabel = []\n",
    "for i in range(len(peopleHeadline)):\n",
    "    peopleLabel.append(0)\n",
    "peopleDataframe = pd.DataFrame({\"headline\":peopleHeadline, \"label\":peopleLabel})\n",
    "peopleTrainSetLen = int((0.8)*len(peopleDataframe))\n",
    "peopleTrainSet = peopleDataframe.iloc[:peopleTrainSetLen]\n",
    "peopleTestSet = peopleDataframe.iloc[peopleTrainSetLen:]"
   ]
  },
  {
   "cell_type": "code",
   "execution_count": 2,
   "metadata": {},
   "outputs": [],
   "source": [
    "generatedData = pd.read_excel('result_0108_large_epoch5.xlsx', header = 0, engine = 'openpyxl')\n",
    "machineHeadline = generatedData['generatedHeadline'].values.tolist()\n",
    "machineIndex = generatedData['index']\n",
    "\n",
    "for i in range(len(machineHeadline)):\n",
    "    machineHeadline[i] = machineHeadline[i].lower()\n",
    "\n",
    "for i in range(len(machineHeadline)):\n",
    "    if '<end>' in machineHeadline[i]:\n",
    "        machineHeadline[i] = machineHeadline[i].replace(\"<end>\",\"\")\n",
    "    if '#' in machineHeadline[i]:\n",
    "        machineHeadline[i] = machineHeadline[i].replace(\"#\", \"\")\n",
    "\n",
    "machineLabel = []\n",
    "for i in range(len(machineHeadline)):\n",
    "    machineLabel.append(1)\n",
    "machineDataframe = pd.DataFrame({\"headline\":machineHeadline, \"label\":machineLabel})\n",
    "machineTrainSetLen = int((0.8)*len(machineDataframe))\n",
    "machineTrainSet = machineDataframe.iloc[:machineTrainSetLen]\n",
    "machineTestSet = machineDataframe.iloc[machineTrainSetLen:]"
   ]
  },
  {
   "cell_type": "code",
   "execution_count": 3,
   "metadata": {},
   "outputs": [],
   "source": [
    "trainSet = pd.concat([peopleTrainSet, machineTrainSet])\n",
    "testSet = pd.concat([peopleTestSet, machineTestSet])\n",
    "trainSet = trainSet.reset_index(drop=True)\n",
    "testSet = testSet.reset_index(drop=True)\n",
    "\n",
    "trainSet.to_excel(\"trainData.xlsx\",encoding = 'utf-8', index = False)\n",
    "testSet.to_excel(\"testData.xlsx\",encoding = 'utf-8', index = False)"
   ]
  },
  {
   "cell_type": "code",
   "execution_count": null,
   "metadata": {},
   "outputs": [],
   "source": []
  }
 ],
 "metadata": {
  "kernelspec": {
   "display_name": "Python 3",
   "language": "python",
   "name": "python3"
  },
  "language_info": {
   "codemirror_mode": {
    "name": "ipython",
    "version": 3
   },
   "file_extension": ".py",
   "mimetype": "text/x-python",
   "name": "python",
   "nbconvert_exporter": "python",
   "pygments_lexer": "ipython3",
   "version": "3.7.9"
  }
 },
 "nbformat": 4,
 "nbformat_minor": 4
}
